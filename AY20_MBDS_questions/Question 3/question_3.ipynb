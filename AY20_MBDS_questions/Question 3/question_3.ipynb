{
  "nbformat": 4,
  "nbformat_minor": 0,
  "metadata": {
    "colab": {
      "name": "3.ipynb",
      "provenance": [],
      "collapsed_sections": []
    },
    "kernelspec": {
      "display_name": "Python 3",
      "name": "python3"
    }
  },
  "cells": [
    {
      "cell_type": "markdown",
      "metadata": {
        "id": "CZEAPltM9FcK"
      },
      "source": [
        "**Uploading the data files**"
      ]
    },
    {
      "cell_type": "code",
      "metadata": {
        "colab": {
          "resources": {
            "http://localhost:8080/nbextensions/google.colab/files.js": {
              "data": "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",
              "ok": true,
              "headers": [
                [
                  "content-type",
                  "application/javascript"
                ]
              ],
              "status": 200,
              "status_text": ""
            }
          },
          "base_uri": "https://localhost:8080/",
          "height": 195
        },
        "id": "SaPIUreCJDJe",
        "outputId": "aa99243a-19fb-4cc9-8a47-0d6f6a86f49b"
      },
      "source": [
        "from google.colab import files\n",
        "\n",
        "uploaded = files.upload()\n",
        "\n",
        "for fn in uploaded.keys():\n",
        "  print('User uploaded file \"{name}\" with length {length} bytes'.format(\n",
        "      name=fn, length=len(uploaded[fn])))"
      ],
      "execution_count": 2,
      "outputs": [
        {
          "output_type": "display_data",
          "data": {
            "text/html": [
              "\n",
              "     <input type=\"file\" id=\"files-20df9776-fb37-42b0-b2c7-eb7a8c20d84f\" name=\"files[]\" multiple disabled\n",
              "        style=\"border:none\" />\n",
              "     <output id=\"result-20df9776-fb37-42b0-b2c7-eb7a8c20d84f\">\n",
              "      Upload widget is only available when the cell has been executed in the\n",
              "      current browser session. Please rerun this cell to enable.\n",
              "      </output>\n",
              "      <script src=\"/nbextensions/google.colab/files.js\"></script> "
            ],
            "text/plain": [
              "<IPython.core.display.HTML object>"
            ]
          },
          "metadata": {
            "tags": []
          }
        },
        {
          "output_type": "stream",
          "text": [
            "Saving train_data.txt to train_data.txt\n",
            "Saving train_truth.txt to train_truth.txt\n",
            "Saving test_data.txt to test_data.txt\n",
            "User uploaded file \"train_data.txt\" with length 578134 bytes\n",
            "User uploaded file \"train_truth.txt\" with length 192395 bytes\n",
            "User uploaded file \"test_data.txt\" with length 144531 bytes\n"
          ],
          "name": "stdout"
        }
      ]
    },
    {
      "cell_type": "markdown",
      "metadata": {
        "id": "uvQWO-rw9VlA"
      },
      "source": [
        "**Importing TensorFlow, Keras and data visualization libraries**"
      ]
    },
    {
      "cell_type": "code",
      "metadata": {
        "id": "EzDB8Ri_JrY8"
      },
      "source": [
        "import tensorflow as tf\n",
        "import matplotlib.pyplot as plt\n",
        "import numpy as np\n",
        "import pandas as pd\n",
        "import seaborn as sns\n",
        "from tensorflow import keras\n",
        "from tensorflow.keras import layers, Sequential\n",
        "from tensorflow.keras.layers.experimental import preprocessing"
      ],
      "execution_count": 5,
      "outputs": []
    },
    {
      "cell_type": "markdown",
      "metadata": {
        "id": "Jry6y0LW9cnt"
      },
      "source": [
        "**Reading the training data into two dataframes: one for features and the other for labels**"
      ]
    },
    {
      "cell_type": "code",
      "metadata": {
        "id": "p5MFjgovclSi"
      },
      "source": [
        "train_x = pd.read_csv(\"train_data.txt\", delim_whitespace=True, header=0)\n",
        "train_y = pd.read_csv(\"train_truth.txt\", delim_whitespace=True, header=0)"
      ],
      "execution_count": 6,
      "outputs": []
    },
    {
      "cell_type": "markdown",
      "metadata": {
        "id": "nzLJwtlM9ljd"
      },
      "source": [
        "**Creating a Sequential model with Keras. This has two hidden layers with 4 neurons in each layer, followed by an output layer.  The optimizer used is ADAM, and the mean absolute error is used for calculating loss due to the small values of the given instances.**"
      ]
    },
    {
      "cell_type": "code",
      "metadata": {
        "colab": {
          "base_uri": "https://localhost:8080/"
        },
        "id": "F4SdUNgXje0z",
        "outputId": "092a561d-9b7e-43fc-abbd-e46281a7cbfe"
      },
      "source": [
        "model = tf.keras.Sequential()\n",
        "model.add(tf.keras.layers.Dense(4,activation='relu'))\n",
        "model.add(tf.keras.layers.Dense(4, activation='relu'))\n",
        "model.add(tf.keras.layers.Dense(1))\n",
        "model.compile(optimizer='adam', loss='mae', metrics='accuracy')\n",
        "\n",
        "model.fit(train_x,train_y, epochs=100,  batch_size=5)\n"
      ],
      "execution_count": 7,
      "outputs": [
        {
          "output_type": "stream",
          "text": [
            "Epoch 1/100\n",
            "2000/2000 [==============================] - 2s 920us/step - loss: 0.0222 - accuracy: 0.0000e+00\n",
            "Epoch 2/100\n",
            "2000/2000 [==============================] - 2s 900us/step - loss: 0.0103 - accuracy: 0.0000e+00\n",
            "Epoch 3/100\n",
            "2000/2000 [==============================] - 2s 907us/step - loss: 0.0098 - accuracy: 0.0000e+00\n",
            "Epoch 4/100\n",
            "2000/2000 [==============================] - 2s 877us/step - loss: 0.0098 - accuracy: 0.0000e+00\n",
            "Epoch 5/100\n",
            "2000/2000 [==============================] - 2s 895us/step - loss: 0.0097 - accuracy: 0.0000e+00\n",
            "Epoch 6/100\n",
            "2000/2000 [==============================] - 2s 934us/step - loss: 0.0097 - accuracy: 0.0000e+00\n",
            "Epoch 7/100\n",
            "2000/2000 [==============================] - 2s 852us/step - loss: 0.0096 - accuracy: 0.0000e+00\n",
            "Epoch 8/100\n",
            "2000/2000 [==============================] - 2s 942us/step - loss: 0.0095 - accuracy: 0.0000e+00\n",
            "Epoch 9/100\n",
            "2000/2000 [==============================] - 2s 940us/step - loss: 0.0096 - accuracy: 0.0000e+00\n",
            "Epoch 10/100\n",
            "2000/2000 [==============================] - 2s 923us/step - loss: 0.0094 - accuracy: 0.0000e+00\n",
            "Epoch 11/100\n",
            "2000/2000 [==============================] - 2s 915us/step - loss: 0.0096 - accuracy: 0.0000e+00\n",
            "Epoch 12/100\n",
            "2000/2000 [==============================] - 2s 951us/step - loss: 0.0095 - accuracy: 0.0000e+00\n",
            "Epoch 13/100\n",
            "2000/2000 [==============================] - 2s 868us/step - loss: 0.0094 - accuracy: 0.0000e+00\n",
            "Epoch 14/100\n",
            "2000/2000 [==============================] - 2s 935us/step - loss: 0.0092 - accuracy: 0.0000e+00\n",
            "Epoch 15/100\n",
            "2000/2000 [==============================] - 2s 931us/step - loss: 0.0096 - accuracy: 0.0000e+00\n",
            "Epoch 16/100\n",
            "2000/2000 [==============================] - 2s 950us/step - loss: 0.0096 - accuracy: 0.0000e+00\n",
            "Epoch 17/100\n",
            "2000/2000 [==============================] - 2s 916us/step - loss: 0.0093 - accuracy: 0.0000e+00\n",
            "Epoch 18/100\n",
            "2000/2000 [==============================] - 2s 933us/step - loss: 0.0093 - accuracy: 0.0000e+00\n",
            "Epoch 19/100\n",
            "2000/2000 [==============================] - 2s 903us/step - loss: 0.0094 - accuracy: 0.0000e+00\n",
            "Epoch 20/100\n",
            "2000/2000 [==============================] - 2s 840us/step - loss: 0.0096 - accuracy: 0.0000e+00\n",
            "Epoch 21/100\n",
            "2000/2000 [==============================] - 2s 903us/step - loss: 0.0093 - accuracy: 0.0000e+00\n",
            "Epoch 22/100\n",
            "2000/2000 [==============================] - 2s 881us/step - loss: 0.0094 - accuracy: 0.0000e+00\n",
            "Epoch 23/100\n",
            "2000/2000 [==============================] - 2s 958us/step - loss: 0.0093 - accuracy: 0.0000e+00\n",
            "Epoch 24/100\n",
            "2000/2000 [==============================] - 2s 930us/step - loss: 0.0095 - accuracy: 0.0000e+00\n",
            "Epoch 25/100\n",
            "2000/2000 [==============================] - 2s 929us/step - loss: 0.0095 - accuracy: 0.0000e+00\n",
            "Epoch 26/100\n",
            "2000/2000 [==============================] - 2s 942us/step - loss: 0.0094 - accuracy: 0.0000e+00\n",
            "Epoch 27/100\n",
            "2000/2000 [==============================] - 2s 917us/step - loss: 0.0095 - accuracy: 0.0000e+00\n",
            "Epoch 28/100\n",
            "2000/2000 [==============================] - 2s 914us/step - loss: 0.0094 - accuracy: 0.0000e+00\n",
            "Epoch 29/100\n",
            "2000/2000 [==============================] - 2s 950us/step - loss: 0.0093 - accuracy: 0.0000e+00\n",
            "Epoch 30/100\n",
            "2000/2000 [==============================] - 2s 924us/step - loss: 0.0095 - accuracy: 0.0000e+00\n",
            "Epoch 31/100\n",
            "2000/2000 [==============================] - 2s 932us/step - loss: 0.0094 - accuracy: 0.0000e+00\n",
            "Epoch 32/100\n",
            "2000/2000 [==============================] - 2s 938us/step - loss: 0.0094 - accuracy: 0.0000e+00\n",
            "Epoch 33/100\n",
            "2000/2000 [==============================] - 2s 865us/step - loss: 0.0093 - accuracy: 0.0000e+00\n",
            "Epoch 34/100\n",
            "2000/2000 [==============================] - 2s 922us/step - loss: 0.0095 - accuracy: 0.0000e+00\n",
            "Epoch 35/100\n",
            "2000/2000 [==============================] - 2s 946us/step - loss: 0.0093 - accuracy: 0.0000e+00\n",
            "Epoch 36/100\n",
            "2000/2000 [==============================] - 2s 917us/step - loss: 0.0093 - accuracy: 0.0000e+00\n",
            "Epoch 37/100\n",
            "2000/2000 [==============================] - 2s 938us/step - loss: 0.0093 - accuracy: 0.0000e+00\n",
            "Epoch 38/100\n",
            "2000/2000 [==============================] - 2s 955us/step - loss: 0.0093 - accuracy: 0.0000e+00\n",
            "Epoch 39/100\n",
            "2000/2000 [==============================] - 2s 950us/step - loss: 0.0096 - accuracy: 0.0000e+00\n",
            "Epoch 40/100\n",
            "2000/2000 [==============================] - 2s 938us/step - loss: 0.0094 - accuracy: 0.0000e+00\n",
            "Epoch 41/100\n",
            "2000/2000 [==============================] - 2s 911us/step - loss: 0.0092 - accuracy: 0.0000e+00\n",
            "Epoch 42/100\n",
            "2000/2000 [==============================] - 2s 902us/step - loss: 0.0094 - accuracy: 0.0000e+00\n",
            "Epoch 43/100\n",
            "2000/2000 [==============================] - 2s 798us/step - loss: 0.0092 - accuracy: 0.0000e+00\n",
            "Epoch 44/100\n",
            "2000/2000 [==============================] - 2s 902us/step - loss: 0.0093 - accuracy: 0.0000e+00\n",
            "Epoch 45/100\n",
            "2000/2000 [==============================] - 2s 940us/step - loss: 0.0093 - accuracy: 0.0000e+00\n",
            "Epoch 46/100\n",
            "2000/2000 [==============================] - 2s 974us/step - loss: 0.0094 - accuracy: 0.0000e+00\n",
            "Epoch 47/100\n",
            "2000/2000 [==============================] - 2s 910us/step - loss: 0.0093 - accuracy: 0.0000e+00\n",
            "Epoch 48/100\n",
            "2000/2000 [==============================] - 2s 955us/step - loss: 0.0093 - accuracy: 0.0000e+00\n",
            "Epoch 49/100\n",
            "2000/2000 [==============================] - 2s 979us/step - loss: 0.0093 - accuracy: 0.0000e+00\n",
            "Epoch 50/100\n",
            "2000/2000 [==============================] - 2s 966us/step - loss: 0.0093 - accuracy: 0.0000e+00\n",
            "Epoch 51/100\n",
            "2000/2000 [==============================] - 2s 932us/step - loss: 0.0092 - accuracy: 0.0000e+00\n",
            "Epoch 52/100\n",
            "2000/2000 [==============================] - 2s 950us/step - loss: 0.0092 - accuracy: 0.0000e+00\n",
            "Epoch 53/100\n",
            "2000/2000 [==============================] - 2s 952us/step - loss: 0.0092 - accuracy: 0.0000e+00\n",
            "Epoch 54/100\n",
            "2000/2000 [==============================] - 2s 949us/step - loss: 0.0091 - accuracy: 0.0000e+00\n",
            "Epoch 55/100\n",
            "2000/2000 [==============================] - 2s 878us/step - loss: 0.0092 - accuracy: 0.0000e+00\n",
            "Epoch 56/100\n",
            "2000/2000 [==============================] - 2s 894us/step - loss: 0.0093 - accuracy: 0.0000e+00\n",
            "Epoch 57/100\n",
            "2000/2000 [==============================] - 2s 952us/step - loss: 0.0091 - accuracy: 0.0000e+00\n",
            "Epoch 58/100\n",
            "2000/2000 [==============================] - 2s 930us/step - loss: 0.0091 - accuracy: 0.0000e+00\n",
            "Epoch 59/100\n",
            "2000/2000 [==============================] - 2s 959us/step - loss: 0.0094 - accuracy: 0.0000e+00\n",
            "Epoch 60/100\n",
            "2000/2000 [==============================] - 2s 947us/step - loss: 0.0093 - accuracy: 0.0000e+00\n",
            "Epoch 61/100\n",
            "2000/2000 [==============================] - 2s 953us/step - loss: 0.0092 - accuracy: 0.0000e+00\n",
            "Epoch 62/100\n",
            "2000/2000 [==============================] - 2s 923us/step - loss: 0.0092 - accuracy: 0.0000e+00\n",
            "Epoch 63/100\n",
            "2000/2000 [==============================] - 2s 908us/step - loss: 0.0091 - accuracy: 0.0000e+00\n",
            "Epoch 64/100\n",
            "2000/2000 [==============================] - 2s 904us/step - loss: 0.0094 - accuracy: 0.0000e+00\n",
            "Epoch 65/100\n",
            "2000/2000 [==============================] - 2s 941us/step - loss: 0.0092 - accuracy: 0.0000e+00\n",
            "Epoch 66/100\n",
            "2000/2000 [==============================] - 2s 942us/step - loss: 0.0092 - accuracy: 0.0000e+00\n",
            "Epoch 67/100\n",
            "2000/2000 [==============================] - 2s 940us/step - loss: 0.0094 - accuracy: 0.0000e+00\n",
            "Epoch 68/100\n",
            "2000/2000 [==============================] - 2s 934us/step - loss: 0.0091 - accuracy: 0.0000e+00\n",
            "Epoch 69/100\n",
            "2000/2000 [==============================] - 2s 940us/step - loss: 0.0093 - accuracy: 0.0000e+00\n",
            "Epoch 70/100\n",
            "2000/2000 [==============================] - 2s 934us/step - loss: 0.0094 - accuracy: 0.0000e+00\n",
            "Epoch 71/100\n",
            "2000/2000 [==============================] - 2s 913us/step - loss: 0.0093 - accuracy: 0.0000e+00\n",
            "Epoch 72/100\n",
            "2000/2000 [==============================] - 2s 910us/step - loss: 0.0091 - accuracy: 0.0000e+00\n",
            "Epoch 73/100\n",
            "2000/2000 [==============================] - 2s 917us/step - loss: 0.0092 - accuracy: 0.0000e+00\n",
            "Epoch 74/100\n",
            "2000/2000 [==============================] - 2s 985us/step - loss: 0.0093 - accuracy: 0.0000e+00\n",
            "Epoch 75/100\n",
            "2000/2000 [==============================] - 2s 940us/step - loss: 0.0093 - accuracy: 0.0000e+00\n",
            "Epoch 76/100\n",
            "2000/2000 [==============================] - 2s 958us/step - loss: 0.0091 - accuracy: 0.0000e+00\n",
            "Epoch 77/100\n",
            "2000/2000 [==============================] - 2s 937us/step - loss: 0.0090 - accuracy: 0.0000e+00\n",
            "Epoch 78/100\n",
            "2000/2000 [==============================] - 2s 945us/step - loss: 0.0092 - accuracy: 0.0000e+00\n",
            "Epoch 79/100\n",
            "2000/2000 [==============================] - 2s 958us/step - loss: 0.0093 - accuracy: 0.0000e+00\n",
            "Epoch 80/100\n",
            "2000/2000 [==============================] - 2s 943us/step - loss: 0.0091 - accuracy: 0.0000e+00\n",
            "Epoch 81/100\n",
            "2000/2000 [==============================] - 2s 963us/step - loss: 0.0091 - accuracy: 0.0000e+00\n",
            "Epoch 82/100\n",
            "2000/2000 [==============================] - 2s 927us/step - loss: 0.0091 - accuracy: 0.0000e+00\n",
            "Epoch 83/100\n",
            "2000/2000 [==============================] - 2s 925us/step - loss: 0.0093 - accuracy: 0.0000e+00\n",
            "Epoch 84/100\n",
            "2000/2000 [==============================] - 2s 967us/step - loss: 0.0094 - accuracy: 0.0000e+00\n",
            "Epoch 85/100\n",
            "2000/2000 [==============================] - 2s 970us/step - loss: 0.0092 - accuracy: 0.0000e+00\n",
            "Epoch 86/100\n",
            "2000/2000 [==============================] - 2s 882us/step - loss: 0.0093 - accuracy: 0.0000e+00\n",
            "Epoch 87/100\n",
            "2000/2000 [==============================] - 2s 954us/step - loss: 0.0093 - accuracy: 0.0000e+00\n",
            "Epoch 88/100\n",
            "2000/2000 [==============================] - 2s 933us/step - loss: 0.0093 - accuracy: 0.0000e+00\n",
            "Epoch 89/100\n",
            "2000/2000 [==============================] - 2s 984us/step - loss: 0.0091 - accuracy: 0.0000e+00\n",
            "Epoch 90/100\n",
            "2000/2000 [==============================] - 2s 904us/step - loss: 0.0090 - accuracy: 0.0000e+00\n",
            "Epoch 91/100\n",
            "2000/2000 [==============================] - 2s 963us/step - loss: 0.0092 - accuracy: 0.0000e+00\n",
            "Epoch 92/100\n",
            "2000/2000 [==============================] - 2s 846us/step - loss: 0.0090 - accuracy: 0.0000e+00\n",
            "Epoch 93/100\n",
            "2000/2000 [==============================] - 2s 967us/step - loss: 0.0089 - accuracy: 0.0000e+00\n",
            "Epoch 94/100\n",
            "2000/2000 [==============================] - 2s 907us/step - loss: 0.0092 - accuracy: 0.0000e+00\n",
            "Epoch 95/100\n",
            "2000/2000 [==============================] - 2s 882us/step - loss: 0.0092 - accuracy: 0.0000e+00\n",
            "Epoch 96/100\n",
            "2000/2000 [==============================] - 2s 898us/step - loss: 0.0093 - accuracy: 0.0000e+00\n",
            "Epoch 97/100\n",
            "2000/2000 [==============================] - 2s 927us/step - loss: 0.0092 - accuracy: 0.0000e+00\n",
            "Epoch 98/100\n",
            "2000/2000 [==============================] - 2s 893us/step - loss: 0.0091 - accuracy: 0.0000e+00\n",
            "Epoch 99/100\n",
            "2000/2000 [==============================] - 2s 905us/step - loss: 0.0092 - accuracy: 0.0000e+00\n",
            "Epoch 100/100\n",
            "2000/2000 [==============================] - 2s 875us/step - loss: 0.0093 - accuracy: 0.0000e+00\n"
          ],
          "name": "stdout"
        },
        {
          "output_type": "execute_result",
          "data": {
            "text/plain": [
              "<tensorflow.python.keras.callbacks.History at 0x7f1b74870a90>"
            ]
          },
          "metadata": {
            "tags": []
          },
          "execution_count": 7
        }
      ]
    },
    {
      "cell_type": "markdown",
      "metadata": {
        "id": "5Y8-bWYD-GJ0"
      },
      "source": [
        "**The trained model is now run on the original dataset again in order to just peek at the performance**"
      ]
    },
    {
      "cell_type": "code",
      "metadata": {
        "colab": {
          "base_uri": "https://localhost:8080/"
        },
        "id": "IvwYokbwyvK-",
        "outputId": "82830fac-095c-40ad-8a61-846130f2dd22"
      },
      "source": [
        "pred = model.predict(train_x)\n",
        "print(pred)"
      ],
      "execution_count": 8,
      "outputs": [
        {
          "output_type": "stream",
          "text": [
            "[[0.398378  ]\n",
            " [0.54427546]\n",
            " [0.26322874]\n",
            " ...\n",
            " [0.46678182]\n",
            " [0.3056388 ]\n",
            " [0.40542206]]\n"
          ],
          "name": "stdout"
        }
      ]
    },
    {
      "cell_type": "markdown",
      "metadata": {
        "id": "yakdef5p-Z8N"
      },
      "source": [
        "**The model is now run on the test dataframe and the following are the predicted 'y' values of the test values of 'x1','x2', and 'x3'**"
      ]
    },
    {
      "cell_type": "code",
      "metadata": {
        "colab": {
          "base_uri": "https://localhost:8080/"
        },
        "id": "Zb9Iy-N539mc",
        "outputId": "2b2751d7-a370-4331-c77a-4deed89bdafa"
      },
      "source": [
        "test_x = pd.read_csv(\"test_data.txt\", delim_whitespace=True, header=0)\n",
        "test_pred = model.predict(test_x)\n",
        "print(test_pred)"
      ],
      "execution_count": 9,
      "outputs": [
        {
          "output_type": "stream",
          "text": [
            "[[0.5638841 ]\n",
            " [0.5245079 ]\n",
            " [0.75282097]\n",
            " ...\n",
            " [0.09186605]\n",
            " [0.4860033 ]\n",
            " [0.4226514 ]]\n"
          ],
          "name": "stdout"
        }
      ]
    },
    {
      "cell_type": "markdown",
      "metadata": {
        "id": "ixgGpe3k-qx9"
      },
      "source": [
        "**We write the output of the prediction to a file**"
      ]
    },
    {
      "cell_type": "code",
      "metadata": {
        "colab": {
          "base_uri": "https://localhost:8080/",
          "height": 17
        },
        "id": "Eay7QsQr-0_z",
        "outputId": "7866f2b9-c90c-4422-d020-3cb678c04d26"
      },
      "source": [
        "out = pd.DataFrame(test_pred)\n",
        "out.to_csv(\"question_3_output\", index=None, header=None)\n",
        "files.download('question_3_output')"
      ],
      "execution_count": 16,
      "outputs": [
        {
          "output_type": "display_data",
          "data": {
            "application/javascript": [
              "\n",
              "    async function download(id, filename, size) {\n",
              "      if (!google.colab.kernel.accessAllowed) {\n",
              "        return;\n",
              "      }\n",
              "      const div = document.createElement('div');\n",
              "      const label = document.createElement('label');\n",
              "      label.textContent = `Downloading \"${filename}\": `;\n",
              "      div.appendChild(label);\n",
              "      const progress = document.createElement('progress');\n",
              "      progress.max = size;\n",
              "      div.appendChild(progress);\n",
              "      document.body.appendChild(div);\n",
              "\n",
              "      const buffers = [];\n",
              "      let downloaded = 0;\n",
              "\n",
              "      const channel = await google.colab.kernel.comms.open(id);\n",
              "      // Send a message to notify the kernel that we're ready.\n",
              "      channel.send({})\n",
              "\n",
              "      for await (const message of channel.messages) {\n",
              "        // Send a message to notify the kernel that we're ready.\n",
              "        channel.send({})\n",
              "        if (message.buffers) {\n",
              "          for (const buffer of message.buffers) {\n",
              "            buffers.push(buffer);\n",
              "            downloaded += buffer.byteLength;\n",
              "            progress.value = downloaded;\n",
              "          }\n",
              "        }\n",
              "      }\n",
              "      const blob = new Blob(buffers, {type: 'application/binary'});\n",
              "      const a = document.createElement('a');\n",
              "      a.href = window.URL.createObjectURL(blob);\n",
              "      a.download = filename;\n",
              "      div.appendChild(a);\n",
              "      a.click();\n",
              "      div.remove();\n",
              "    }\n",
              "  "
            ],
            "text/plain": [
              "<IPython.core.display.Javascript object>"
            ]
          },
          "metadata": {
            "tags": []
          }
        },
        {
          "output_type": "display_data",
          "data": {
            "application/javascript": [
              "download(\"download_018c094a-6bc9-4319-b41e-983e7fa7c90c\", \"question_3_output\", 26501)"
            ],
            "text/plain": [
              "<IPython.core.display.Javascript object>"
            ]
          },
          "metadata": {
            "tags": []
          }
        }
      ]
    }
  ]
}